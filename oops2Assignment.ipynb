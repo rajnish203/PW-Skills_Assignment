{
 "cells": [
  {
   "cell_type": "markdown",
   "metadata": {},
   "source": [
    "# Q1. What is Abstraction in OOps? Explain with an example."
   ]
  },
  {
   "cell_type": "markdown",
   "metadata": {},
   "source": [
    "#### Abstraction is a fundamental principle of object-oriented programming (OOP) that focuses on hiding the complex implementation details and showing only the necessary features of an object. It allows you to manage complexity by breaking down the system into smaller, more manageable pieces."
   ]
  },
  {
   "cell_type": "code",
   "execution_count": 26,
   "metadata": {},
   "outputs": [
    {
     "name": "stdout",
     "output_type": "stream",
     "text": [
      "The Verna Hyundai is starting.\n",
      "The Verna Hyundai is driving.\n",
      "The Verna Hyundai is stopping.\n"
     ]
    }
   ],
   "source": [
    "class Car:\n",
    "    def __init__(self,make, model):\n",
    "        self.make=make\n",
    "        self.model=model\n",
    "    def start(self):\n",
    "        print(f\"The {self.make} {self.model} is starting.\")\n",
    "    def stop(self):\n",
    "         print(f\"The {self.make} {self.model} is stopping.\")\n",
    "    def drive(self):\n",
    "         print(f\"The {self.make} {self.model} is driving.\")\n",
    "\n",
    "# creating instace of the class\n",
    "car=Car('Verna','Hyundai')\n",
    "car.start()\n",
    "car.drive()\n",
    "car.stop()\n"
   ]
  },
  {
   "cell_type": "markdown",
   "metadata": {},
   "source": [
    "#### In this example, the Car class abstracts the details of a car. Users of the Car class do not need to know how the car starts, drives, or stops internally. They only need to use the provided methods (start, drive, stop) to interact with the car."
   ]
  },
  {
   "cell_type": "markdown",
   "metadata": {},
   "source": [
    "# Q2. Differentiate between Abstraction and Encapsulation. Explain with an example."
   ]
  },
  {
   "cell_type": "markdown",
   "metadata": {},
   "source": [
    "#### Encapsulation is the fundamental principle of bounding the data and methods in a single unit and controlling their access like a class  while Abstraction is hiding the details and implementation of the code."
   ]
  },
  {
   "cell_type": "code",
   "execution_count": 27,
   "metadata": {},
   "outputs": [
    {
     "name": "stdout",
     "output_type": "stream",
     "text": [
      "1000\n",
      "1200\n",
      "1050\n"
     ]
    }
   ],
   "source": [
    "from abc import ABC, abstractmethod\n",
    "class Banking(ABC):\n",
    "    @abstractmethod\n",
    "    def balance_enquiry(self):\n",
    "        pass\n",
    "    @abstractmethod\n",
    "    def deposit(self, amount):\n",
    "        pass\n",
    "    @abstractmethod\n",
    "    def withdraw(self, amount):\n",
    "        pass\n",
    "class SavingsAccount(Banking):\n",
    "    def __init__(self, balance=0):\n",
    "        self._balance = balance  # Encapsulation: private attribute\n",
    "\n",
    "    def balance_enquiry(self):\n",
    "        return self._balance\n",
    "\n",
    "    def deposit(self, amount):\n",
    "        if amount > 0:\n",
    "            self._balance += amount\n",
    "            return self._balance\n",
    "        else:\n",
    "            return \"Deposit amount must be positive.\"\n",
    "\n",
    "    def withdraw(self, amount):\n",
    "        if 0 < amount <= self._balance:\n",
    "            self._balance -= amount\n",
    "            return self._balance\n",
    "        else:\n",
    "            return \"Insufficient funds or invalid amount.\"\n",
    "savings = SavingsAccount(1000)\n",
    "print(savings.balance_enquiry())  \n",
    "print(savings.deposit(200))        \n",
    "print(savings.withdraw(150))      "
   ]
  },
  {
   "cell_type": "markdown",
   "metadata": {},
   "source": [
    "# Q3. What is abc module in python? Why is it used?"
   ]
  },
  {
   "cell_type": "markdown",
   "metadata": {},
   "source": [
    "#### The abc module in Python stands for \"Abstract Base Classes\" and is used to define abstract classes and methods. It provides a framework for defining abstract classes that cannot be instantiated directly and for enforcing that certain methods are implemented in derived classes."
   ]
  },
  {
   "cell_type": "markdown",
   "metadata": {},
   "source": [
    "# Q4. How can we achieve data abstraction?"
   ]
  },
  {
   "cell_type": "markdown",
   "metadata": {},
   "source": [
    "#### Abstract Classes: Use abstract base classes with the abc module to define a common interface and enforce that derived classes implement specific methods. Abstract methods in these classes act as a blueprint for subclasses.\n",
    "\n",
    "#### Encapsulation: Use private and protected attributes and methods (prefixing with _ or __) to hide the internal state and implementation details of a class. This ensures that the user interacts with the class through a controlled interface."
   ]
  },
  {
   "cell_type": "code",
   "execution_count": 28,
   "metadata": {},
   "outputs": [
    {
     "name": "stdout",
     "output_type": "stream",
     "text": [
      "12\n",
      "14\n",
      "16\n",
      "None\n",
      "153.86\n",
      "43.96\n"
     ]
    }
   ],
   "source": [
    "from abc import ABC, abstractmethod\n",
    "\n",
    "class Shape(ABC):\n",
    "    def area(self):\n",
    "        pass\n",
    "    def perimater(self):\n",
    "        pass\n",
    "\n",
    "class Rectangle(Shape):\n",
    "    def __init__(self, width, height):\n",
    "        self._width = width   # Encapsulation: private attribute\n",
    "        self._height = height # Encapsulation: private attribute\n",
    "    def area(self):\n",
    "        return self._width*self._height\n",
    "    \n",
    "    def perimater(self):\n",
    "        return 2*(self._height+self._width)\n",
    "    \n",
    "class Square(Shape):\n",
    "    def __init__(self,side):\n",
    "        self._side=side\n",
    "    def area(self):\n",
    "        return self._side*self._side\n",
    "    def perimeter(self):\n",
    "        return 4*self._side\n",
    "    \n",
    "class Circle(Shape):\n",
    "    def __init__(self,radius):\n",
    "        self._radius=radius\n",
    "    def area (self):\n",
    "        return 3.14*self._radius*self._radius\n",
    "    def perimater(self):\n",
    "        return 2*3.14*self._radius\n",
    "    \n",
    "rectangle=Rectangle(3,4);\n",
    "print(rectangle.area())\n",
    "print(rectangle.perimater())\n",
    "\n",
    "square=Square(4)\n",
    "print(square.area())\n",
    "print(square.perimater())\n",
    "\n",
    "circle=Circle(7)\n",
    "print(circle.area())\n",
    "print(circle.perimater())"
   ]
  },
  {
   "cell_type": "markdown",
   "metadata": {},
   "source": [
    "# Q5. Can we create an instance of an abstract class? Explain your answer."
   ]
  },
  {
   "cell_type": "markdown",
   "metadata": {},
   "source": [
    "#### No we can not create the instace of abstract class.If an abstract class contains abstract methods (methods without implementations), the class itself is considered abstract. Since the class cannot provide complete behavior (due to missing implementations), it cannot be instantiated."
   ]
  },
  {
   "cell_type": "code",
   "execution_count": 29,
   "metadata": {},
   "outputs": [
    {
     "name": "stdout",
     "output_type": "stream",
     "text": [
      "Bark\n",
      "This animal is sleeping\n"
     ]
    }
   ],
   "source": [
    "from abc import  ABC, abstractmethod\n",
    "class Animal(ABC):\n",
    "    @abstractmethod\n",
    "    def make_sound(slef):\n",
    "        pass\n",
    "    def sleep(self):\n",
    "        print('This animal is sleeping')\n",
    "\n",
    "class Dog(Animal):\n",
    "    def make_sound(self):\n",
    "        return 'Bark'\n",
    "\n",
    "dog=Dog()\n",
    "print(dog.make_sound())\n",
    "dog.sleep()"
   ]
  }
 ],
 "metadata": {
  "kernelspec": {
   "display_name": "Python 3",
   "language": "python",
   "name": "python3"
  },
  "language_info": {
   "codemirror_mode": {
    "name": "ipython",
    "version": 3
   },
   "file_extension": ".py",
   "mimetype": "text/x-python",
   "name": "python",
   "nbconvert_exporter": "python",
   "pygments_lexer": "ipython3",
   "version": "3.11.4"
  }
 },
 "nbformat": 4,
 "nbformat_minor": 2
}
