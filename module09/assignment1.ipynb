{
 "cells": [
  {
   "cell_type": "markdown",
   "metadata": {},
   "source": [
    "#### Q1. Creating variables with different data types:"
   ]
  },
  {
   "cell_type": "code",
   "execution_count": 17,
   "metadata": {},
   "outputs": [],
   "source": [
    "# (i) string\n",
    "string_variable = \"Hello\"\n",
    "\n",
    "# (ii) list\n",
    "list_variable = [1, 2, 3, 4, 5]\n",
    "\n",
    "# (iii) float\n",
    "float_variable = 3.14\n",
    "\n",
    "# (iv) tuple\n",
    "tuple_variable = (10, 20, 30)\n"
   ]
  },
  {
   "cell_type": "markdown",
   "metadata": {},
   "source": [
    "#### Q2. Determining data types of given variables:"
   ]
  },
  {
   "cell_type": "code",
   "execution_count": 18,
   "metadata": {},
   "outputs": [
    {
     "name": "stdout",
     "output_type": "stream",
     "text": [
      "<class 'str'>\n",
      "<class 'str'>\n",
      "<class 'list'>\n",
      "<class 'float'>\n"
     ]
    }
   ],
   "source": [
    "var1 = ' '           # string\n",
    "var2 = '[ DS , ML , Python]'   # string\n",
    "var3 = ['DS', 'ML', 'Python']  # list\n",
    "var4 = 1.                    # float\n",
    "\n",
    "print(type(var1))\n",
    "print(type(var2))\n",
    "print(type(var3))\n",
    "print(type(var4))\n"
   ]
  },
  {
   "cell_type": "markdown",
   "metadata": {},
   "source": [
    "## Q3. Explanation of operators:\n",
    "\n",
    "##### /: Division operator. It divides the left operand by the right operand.\n",
    "##### %: Modulus operator. It returns the remainder of the division of the left operand by the right operand.\n",
    "##### //: Floor division operator. It performs division where the result is rounded down to the nearest whole number.\n",
    "##### **: Exponentiation operator. It raises the left operand to the power of the right operand."
   ]
  },
  {
   "cell_type": "code",
   "execution_count": 19,
   "metadata": {},
   "outputs": [
    {
     "name": "stdout",
     "output_type": "stream",
     "text": [
      "3.3333333333333335\n",
      "1\n",
      "3\n",
      "8\n"
     ]
    }
   ],
   "source": [
    "# Division\n",
    "result = 10 / 3   # result will be 3.3333...\n",
    "print(result)\n",
    "\n",
    "# Modulus\n",
    "remainder = 10 % 3   # remainder will be 1\n",
    "print(remainder)\n",
    "\n",
    "# Floor division\n",
    "result = 10 // 3   # result will be 3\n",
    "print(result)\n",
    "\n",
    "# Exponentiation\n",
    "result = 2 ** 3   # result will be 8\n",
    "print(result)\n"
   ]
  },
  {
   "cell_type": "markdown",
   "metadata": {},
   "source": [
    "### Q4. Creating a list and printing elements with their data types:"
   ]
  },
  {
   "cell_type": "code",
   "execution_count": 20,
   "metadata": {},
   "outputs": [
    {
     "name": "stdout",
     "output_type": "stream",
     "text": [
      "10 <class 'int'>\n",
      "hello <class 'str'>\n",
      "3.14 <class 'float'>\n",
      "True <class 'bool'>\n",
      "[1, 2, 3] <class 'list'>\n",
      "{'a': 1, 'b': 2} <class 'dict'>\n",
      "(4, 5, 6) <class 'tuple'>\n",
      "None <class 'NoneType'>\n",
      "7 <class 'int'>\n",
      "world <class 'str'>\n"
     ]
    }
   ],
   "source": [
    "my_list = [10, \"hello\", 3.14, True, [1, 2, 3], {'a': 1, 'b': 2}, (4, 5, 6), None, 7, 'world']\n",
    "\n",
    "for element in my_list:\n",
    "    print(element, type(element))\n"
   ]
  },
  {
   "cell_type": "markdown",
   "metadata": {},
   "source": [
    "### Q5. Using a while loop to verify divisibility:"
   ]
  },
  {
   "cell_type": "code",
   "execution_count": 21,
   "metadata": {},
   "outputs": [
    {
     "name": "stdout",
     "output_type": "stream",
     "text": [
      "A is divisible by B 1 times.\n"
     ]
    }
   ],
   "source": [
    "A = 20\n",
    "B = 4\n",
    "count = 0\n",
    "\n",
    "while A % B == 0:\n",
    "    A /= B\n",
    "    count += 1\n",
    "\n",
    "print(\"A is divisible by B\", count, \"times.\")\n"
   ]
  },
  {
   "cell_type": "markdown",
   "metadata": {},
   "source": [
    "### Checking divisibility by 3 in a list:"
   ]
  },
  {
   "cell_type": "code",
   "execution_count": 22,
   "metadata": {},
   "outputs": [
    {
     "name": "stdout",
     "output_type": "stream",
     "text": [
      "2 is not divisible by 3\n",
      "5 is not divisible by 3\n",
      "9 is divisible by 3\n",
      "12 is divisible by 3\n",
      "15 is divisible by 3\n",
      "18 is divisible by 3\n",
      "20 is not divisible by 3\n",
      "22 is not divisible by 3\n",
      "25 is not divisible by 3\n",
      "30 is divisible by 3\n"
     ]
    }
   ],
   "source": [
    "my_list = [2, 5, 9, 12, 15, 18, 20, 22, 25, 30]\n",
    "\n",
    "for num in my_list:\n",
    "    if num % 3 == 0:\n",
    "        print(num, \"is divisible by 3\")\n",
    "    else:\n",
    "        print(num, \"is not divisible by 3\")\n"
   ]
  },
  {
   "cell_type": "markdown",
   "metadata": {},
   "source": [
    "### Q7. Mutable vs. Immutable data types:\n",
    "\n",
    "##### Mutable data types can be changed after creation, while immutable data types cannot.\n",
    "##### Examples of mutable data types: lists, dictionaries, sets.\n",
    "##### Examples of immutable data types: integers, floats, strings, tuples."
   ]
  },
  {
   "cell_type": "code",
   "execution_count": 23,
   "metadata": {},
   "outputs": [
    {
     "name": "stdout",
     "output_type": "stream",
     "text": [
      "[10, 2, 3]\n"
     ]
    }
   ],
   "source": [
    "# Mutable example\n",
    "my_list = [1, 2, 3]\n",
    "my_list[0] = 10\n",
    "print(my_list)  # Output: [10, 2, 3]\n",
    "\n",
    "# Immutable example\n",
    "my_tuple = (1, 2, 3)\n",
    "# This will give an error:\n",
    "# my_tuple[0] = 10\n"
   ]
  }
 ],
 "metadata": {
  "kernelspec": {
   "display_name": "Python 3",
   "language": "python",
   "name": "python3"
  },
  "language_info": {
   "codemirror_mode": {
    "name": "ipython",
    "version": 3
   },
   "file_extension": ".py",
   "mimetype": "text/x-python",
   "name": "python",
   "nbconvert_exporter": "python",
   "pygments_lexer": "ipython3",
   "version": "3.11.4"
  }
 },
 "nbformat": 4,
 "nbformat_minor": 2
}
