{
 "cells": [
  {
   "cell_type": "markdown",
   "metadata": {},
   "source": [
    "# Q1. What is an Exception in python? Write the difference between Exceptions and Syntax errors."
   ]
  },
  {
   "cell_type": "markdown",
   "metadata": {},
   "source": [
    "## Exception\n",
    "#### An exception is an event that occurs during the execution of a program that disrupts the normal flow of instructions. It's an error that occurs at runtime, and it's not a syntax error. Exceptions can be caused by various factors, such as:\n",
    "#### Invalid user input\n",
    "#### Network connection errors\n",
    "#### File not found errors\n",
    "#### Division by zero\n",
    "#### Out-of-range values\n",
    "\n",
    "## Syntax Errors\n",
    "#### It is an error occur during the parsing phase of the python interpreter caused by invalid syntax such as\n",
    "#### Missing or mismatched brackets, parentheses, or quotes\n",
    "#### Invalid indentation\n",
    "#### Unknown keywords or identifiers"
   ]
  },
  {
   "cell_type": "markdown",
   "metadata": {},
   "source": [
    "# Q2. What happens when an exception is not handled? Explain with an example."
   ]
  },
  {
   "cell_type": "markdown",
   "metadata": {},
   "source": [
    "#### When an exception is not handled, the program will terminate abnormally, and the Python interpreter will display an error message indicating the type of exception that occurred. This error message is known as a traceback.The traceback provides valuable information about the exception, including:\n",
    "\n",
    "#### The type of exception that occurred\n",
    "#### The location of the error (file name, line number, and function name)\n",
    "#### A description of the error\n",
    "\n",
    "### If an exception is not handled, the program will not continue executing, and any resources that were being used may not be properly closed."
   ]
  },
  {
   "cell_type": "code",
   "execution_count": 12,
   "metadata": {},
   "outputs": [
    {
     "ename": "ZeroDivisionError",
     "evalue": "division by zero",
     "output_type": "error",
     "traceback": [
      "\u001b[1;31m---------------------------------------------------------------------------\u001b[0m",
      "\u001b[1;31mZeroDivisionError\u001b[0m                         Traceback (most recent call last)",
      "Cell \u001b[1;32mIn[12], line 6\u001b[0m\n\u001b[0;32m      3\u001b[0m     quotient\u001b[38;5;241m=\u001b[39ma\u001b[38;5;241m/\u001b[39mb\n\u001b[0;32m      4\u001b[0m     \u001b[38;5;28;01mreturn\u001b[39;00m quotient\n\u001b[1;32m----> 6\u001b[0m \u001b[38;5;28mprint\u001b[39m(\u001b[43mdivison_exception\u001b[49m\u001b[43m(\u001b[49m\u001b[38;5;241;43m12\u001b[39;49m\u001b[43m,\u001b[49m\u001b[38;5;241;43m0\u001b[39;49m\u001b[43m)\u001b[49m) \n",
      "Cell \u001b[1;32mIn[12], line 3\u001b[0m, in \u001b[0;36mdivison_exception\u001b[1;34m(a, b)\u001b[0m\n\u001b[0;32m      2\u001b[0m \u001b[38;5;28;01mdef\u001b[39;00m \u001b[38;5;21mdivison_exception\u001b[39m(a,b):\n\u001b[1;32m----> 3\u001b[0m     quotient\u001b[38;5;241m=\u001b[39m\u001b[43ma\u001b[49m\u001b[38;5;241;43m/\u001b[39;49m\u001b[43mb\u001b[49m\n\u001b[0;32m      4\u001b[0m     \u001b[38;5;28;01mreturn\u001b[39;00m quotient\n",
      "\u001b[1;31mZeroDivisionError\u001b[0m: division by zero"
     ]
    }
   ],
   "source": [
    "# Example if exception is not handles\n",
    "def divison_exception(a,b):\n",
    "    quotient=a/b\n",
    "    return quotient\n",
    "\n",
    "print(divison_exception(12,0)) \n",
    "\n"
   ]
  },
  {
   "cell_type": "markdown",
   "metadata": {},
   "source": [
    "# Q3. Which Python statements are used to catch and handle exceptions? Explain with an example."
   ]
  },
  {
   "cell_type": "markdown",
   "metadata": {},
   "source": [
    "### The following statements are used to catch and handle exceptions:\n",
    "\n",
    "#### try: This statement is used to enclose a block of code that might raise an exception.\n",
    "#### except: This statement is used to catch and handle the exception raised in the try block.\n",
    "#### finally: This statement is used to execute a block of code regardless of whether an exception was raised or not."
   ]
  },
  {
   "cell_type": "code",
   "execution_count": null,
   "metadata": {},
   "outputs": [
    {
     "name": "stdout",
     "output_type": "stream",
     "text": [
      "Error, can not divide by zero\n",
      "Program is completed\n",
      "None\n"
     ]
    }
   ],
   "source": [
    "def divison_exception(a,b):\n",
    "    try:\n",
    "        return a/b\n",
    "    except ZeroDivisionError:\n",
    "        print('Error, can not divide by zero')\n",
    "    finally:\n",
    "        print('Program is completed')\n",
    "print(divison_exception(5,0))"
   ]
  },
  {
   "cell_type": "markdown",
   "metadata": {},
   "source": [
    "# Q4. Explain with an example:\n",
    "\n",
    "# a. try and else\n",
    "\n",
    "# b. finally\n",
    "\n",
    "# c. raise"
   ]
  },
  {
   "cell_type": "markdown",
   "metadata": {},
   "source": [
    "## try and else:\n",
    "#### The try block is used to enclose a set of statements where an exception can occur. The else block is used to handle the situation when no exception occurs in the try block."
   ]
  },
  {
   "cell_type": "code",
   "execution_count": null,
   "metadata": {},
   "outputs": [
    {
     "name": "stdout",
     "output_type": "stream",
     "text": [
      "Error: Division by zero is not allowed\n"
     ]
    }
   ],
   "source": [
    "try:\n",
    "    x = 5 / 0\n",
    "except ZeroDivisionError:\n",
    "    print(\"Error: Division by zero is not allowed\")\n",
    "else:\n",
    "    print(\"No exception occurred\")"
   ]
  },
  {
   "cell_type": "code",
   "execution_count": null,
   "metadata": {},
   "outputs": [
    {
     "name": "stdout",
     "output_type": "stream",
     "text": [
      "No exception occurred\n"
     ]
    }
   ],
   "source": [
    "try:\n",
    "    x = 5 / 1\n",
    "except ZeroDivisionError:\n",
    "    print(\"Error: Division by zero is not allowed\")\n",
    "else:\n",
    "    print(\"No exception occurred\")"
   ]
  },
  {
   "cell_type": "markdown",
   "metadata": {},
   "source": [
    "## finally:\n",
    "#### The finally block is used to execute a set of statements regardless of whether an exception occurs or not. It is typically used to release resources, close files, or perform cleanup operations."
   ]
  },
  {
   "cell_type": "code",
   "execution_count": null,
   "metadata": {},
   "outputs": [
    {
     "name": "stdout",
     "output_type": "stream",
     "text": [
      "Error: File not found\n",
      "File closed\n"
     ]
    }
   ],
   "source": [
    "try:\n",
    "    f = open(\"example.txt\", \"r\")\n",
    "    content = f.read()\n",
    "except FileNotFoundError:\n",
    "    print(\"Error: File not found\")\n",
    "finally:\n",
    "    if 'f' in locals() and f is not None:\n",
    "        f.close()\n",
    "    print(\"File closed\")"
   ]
  },
  {
   "cell_type": "markdown",
   "metadata": {},
   "source": [
    "## Raise:\n",
    "#### The raise statement is used to manually raise an exception."
   ]
  },
  {
   "cell_type": "code",
   "execution_count": null,
   "metadata": {},
   "outputs": [
    {
     "name": "stdout",
     "output_type": "stream",
     "text": [
      "Error: Division by zero is not allowed\n"
     ]
    }
   ],
   "source": [
    "def divide(a, b):\n",
    "    if b == 0:\n",
    "        raise ValueError(\"Division by zero is not allowed\")\n",
    "    return a / b\n",
    "\n",
    "try:\n",
    "    result = divide(5, 0)\n",
    "except ValueError as e:\n",
    "    print(\"Error:\", e)"
   ]
  },
  {
   "cell_type": "markdown",
   "metadata": {},
   "source": [
    "# What are Custom Exceptions in python? Why do we need Custom Exceptions? Explain with an example"
   ]
  },
  {
   "cell_type": "markdown",
   "metadata": {},
   "source": [
    "#### In Python, custom exceptions are user-defined exceptions that can be raised and caught in a program. They are used to handle specific error conditions that are not covered by the built-in exceptions in Python. Custom exceptions are created by deriving classes from the built-in Exception class.\n",
    "\n",
    "#### We need custom exceptions for several reasons:\n",
    "\n",
    "#### Improved error handling: Custom exceptions allow us to handle specific error conditions in a more elegant and informative way. By raising a custom exception, we can provide more context and information about the error, making it easier to debug and fix.\n",
    "\n",
    "#### Better code organization: Custom exceptions help to organize our code in a more structured way. By defining specific exceptions for specific error conditions, we can keep our code clean and easy to maintain.\n",
    "\n",
    "#### Enhanced user experience: Custom exceptions can provide a better user experience by providing more informative error messages and allowing us to handle errors in a more user-friendly way."
   ]
  },
  {
   "cell_type": "code",
   "execution_count": null,
   "metadata": {},
   "outputs": [],
   "source": [
    "class InvalidInputError(Exception):\n",
    "    pass"
   ]
  },
  {
   "cell_type": "code",
   "execution_count": null,
   "metadata": {},
   "outputs": [
    {
     "name": "stdout",
     "output_type": "stream",
     "text": [
      "Error: Input must be a string containing only alphabetic characters\n"
     ]
    }
   ],
   "source": [
    "def validate_input(input_string):\n",
    "    if not input_string.isalpha():\n",
    "        raise InvalidInputError(\"Input must be a string containing only alphabetic characters\")\n",
    "    return input_string.upper()\n",
    "try:\n",
    "    input_string = \"Hello123\"\n",
    "    result = validate_input(input_string)\n",
    "    print(result)\n",
    "except InvalidInputError as e:\n",
    "    print(f\"Error: {e}\")"
   ]
  },
  {
   "cell_type": "markdown",
   "metadata": {},
   "source": [
    "# Create a custom exception class. Use this class to handle an exception."
   ]
  },
  {
   "cell_type": "code",
   "execution_count": null,
   "metadata": {},
   "outputs": [
    {
     "name": "stdout",
     "output_type": "stream",
     "text": [
      "1\n"
     ]
    }
   ],
   "source": [
    "class customException(Exception):\n",
    "    pass\n",
    "\n",
    "def isValidManForVote(age):\n",
    "    voteCount=0\n",
    "    if age<18:\n",
    "        raise customException(\"you are not eligible for vote\")\n",
    "    else:\n",
    "        voteCount+=1\n",
    "    return voteCount\n",
    "try:\n",
    "    age=18\n",
    "    result=isValidManForVote(age)\n",
    "    print(result)\n",
    "except customException as e:\n",
    "    print(f\"Error :{e}\")"
   ]
  }
 ],
 "metadata": {
  "kernelspec": {
   "display_name": "Python 3",
   "language": "python",
   "name": "python3"
  },
  "language_info": {
   "codemirror_mode": {
    "name": "ipython",
    "version": 3
   },
   "file_extension": ".py",
   "mimetype": "text/x-python",
   "name": "python",
   "nbconvert_exporter": "python",
   "pygments_lexer": "ipython3",
   "version": "3.11.4"
  }
 },
 "nbformat": 4,
 "nbformat_minor": 2
}
