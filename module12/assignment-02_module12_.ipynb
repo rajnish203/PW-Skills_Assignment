{
 "cells": [
  {
   "cell_type": "markdown",
   "metadata": {},
   "source": [
    "# Assignment-01"
   ]
  },
  {
   "cell_type": "markdown",
   "metadata": {},
   "source": [
    "### Q1. Explain Class and Object with respect to Object-Oriented Programming. Give a suitable example."
   ]
  },
  {
   "cell_type": "markdown",
   "metadata": {},
   "source": [
    "\n",
    "In object-oriented programming (OOP), a class is a blueprint for creating objects (instances). It defines the attributes (data) and methods (functions) that the objects will have.\n",
    "\n",
    "An object, on the other hand, is a concrete instance of a class. It is created based on the structure defined by the class. Objects have their own unique data (attributes) and can perform actions (methods) defined in the class."
   ]
  },
  {
   "cell_type": "code",
   "execution_count": 2,
   "metadata": {},
   "outputs": [
    {
     "name": "stdout",
     "output_type": "stream",
     "text": [
      "Toyota Camry 2020\n",
      "Tesla Model S 2022\n",
      "Current speed: 10 mph\n",
      "Current speed: 20 mph\n",
      "Current speed: 10 mph\n"
     ]
    }
   ],
   "source": [
    "class Car:\n",
    "    def __init__(self, make, model, year):\n",
    "        self.make = make\n",
    "        self.model = model\n",
    "        self.year = year\n",
    "        self.speed = 0\n",
    "\n",
    "    def accelerate(self):\n",
    "        self.speed += 10\n",
    "\n",
    "    def brake(self):\n",
    "        self.speed -= 10\n",
    "\n",
    "    def display_speed(self):\n",
    "        print(\"Current speed:\", self.speed, \"mph\")\n",
    "\n",
    "\n",
    "# Creating objects of the Car class\n",
    "car1 = Car(\"Toyota\", \"Camry\", 2020)\n",
    "car2 = Car(\"Tesla\", \"Model S\", 2022)\n",
    "\n",
    "# Accessing object attributes\n",
    "print(car1.make, car1.model, car1.year)  # Output: Toyota Camry 2020\n",
    "print(car2.make, car2.model, car2.year)  # Output: Tesla Model S 2022\n",
    "\n",
    "# Calling object methods\n",
    "car1.accelerate()\n",
    "car1.display_speed()  # Output: Current speed: 10 mph\n",
    "car1.accelerate()\n",
    "car1.display_speed()  # Output: Current speed: 20 mph\n",
    "car1.brake()\n",
    "car1.display_speed()  # Output: Current speed: 10 mph\n"
   ]
  },
  {
   "cell_type": "markdown",
   "metadata": {},
   "source": [
    "### Q2. Name the four pillars of OOPs.\n"
   ]
  },
  {
   "cell_type": "markdown",
   "metadata": {},
   "source": [
    "\n",
    "Encapsulation: Encapsulation refers to the bundling of data (attributes) and methods (functions) that operate on the data into a single unit, called a class. It hides the internal state of an object and only exposes the necessary functionalities through methods. This helps in controlling access to the data and prevents unintended modification.\n",
    "\n",
    "Abstraction: Abstraction is the process of simplifying complex systems by hiding unnecessary details while highlighting essential features. In OOP, abstraction allows us to focus on what an object does rather than how it does it. It provides a way to create user-defined data types (classes) with their own behaviors and characteristics, allowing users to interact with them without needing to understand their internal implementation.\n",
    "\n",
    "Inheritance: Inheritance is a mechanism in which a new class (subclass or derived class) inherits properties and behaviors (attributes and methods) from an existing class (superclass or base class). This promotes code reuse and facilitates the creation of hierarchical relationships between classes. Subclasses can extend the functionality of their superclass by adding new features or overriding existing ones.\n",
    "\n",
    "Polymorphism: Polymorphism means \"many forms\" and refers to the ability of objects to take on different forms or behaviors based on the context in which they are used. In OOP, polymorphism allows objects of different classes to be treated as objects of a common superclass. This enables flexibility and extensibility in the design, as methods can be defined to operate on objects of the superclass, and the appropriate behavior is determined dynamically at runtime based on the actual type of the object."
   ]
  },
  {
   "cell_type": "markdown",
   "metadata": {},
   "source": [
    "### Q3. Explain why the __init__() function is used. Give a suitable example."
   ]
  },
  {
   "cell_type": "markdown",
   "metadata": {},
   "source": [
    "In object-oriented programming, the __init__() function is a special method used for initializing newly created objects. It is called automatically when a new instance of a class is created. The __init__() method is commonly known as a constructor in many programming languages.\n",
    "\n",
    "The primary purpose of the __init__() method is to initialize the attributes (data) of an object to specific values when it is created. This allows for the setup of the object's initial state, ensuring that it starts with the desired characteristics."
   ]
  },
  {
   "cell_type": "code",
   "execution_count": 3,
   "metadata": {},
   "outputs": [
    {
     "name": "stdout",
     "output_type": "stream",
     "text": [
      "Name: Alice, Age: 30\n",
      "Name: Bob, Age: 25\n"
     ]
    }
   ],
   "source": [
    "class Person:\n",
    "    def __init__(self, name, age):\n",
    "        self.name = name\n",
    "        self.age = age\n",
    "    \n",
    "    def display_info(self):\n",
    "        print(f\"Name: {self.name}, Age: {self.age}\")\n",
    "\n",
    "\n",
    "# Creating objects of the Person class\n",
    "person1 = Person(\"Alice\", 30)\n",
    "person2 = Person(\"Bob\", 25)\n",
    "\n",
    "# Accessing object attributes and calling methods\n",
    "person1.display_info()  # Output: Name: Alice, Age: 30\n",
    "person2.display_info()  # Output: Name: Bob, Age: 25\n"
   ]
  },
  {
   "cell_type": "markdown",
   "metadata": {},
   "source": [
    "### Q4. Why self is used in OOPs?"
   ]
  },
  {
   "cell_type": "markdown",
   "metadata": {},
   "source": [
    "\n",
    "In object-oriented programming (OOP), self is a special parameter that is used to refer to the current instance of a class. It acts as a reference to the object itself within the class methods. The use of self allows methods to access and manipulate the object's attributes and call other methods defined within the same class.\n",
    "\n",
    "The primary reasons for using self in OOP are:\n",
    "\n",
    "Accessing Object Attributes: Inside class methods, self is used to access the object's attributes (data members) and perform operations on them. Without self, the method wouldn't know which object's attributes to work with.\n",
    "\n",
    "Calling Other Methods: self is also used to call other methods within the same class. This enables methods to invoke other methods and perform complex behaviors associated with the object.\n",
    "\n",
    "Distinguishing Instance Variables: Using self helps distinguish instance variables (attributes that are unique to each object) from local variables (variables that exist only within a method's scope). It ensures that attribute assignments and method calls affect the correct object."
   ]
  },
  {
   "cell_type": "code",
   "execution_count": 4,
   "metadata": {},
   "outputs": [
    {
     "name": "stdout",
     "output_type": "stream",
     "text": [
      "Area of circle1: 78.5\n",
      "Area of circle2: 153.86\n"
     ]
    }
   ],
   "source": [
    "class Circle:\n",
    "    def __init__(self, radius):\n",
    "        self.radius = radius\n",
    "\n",
    "    def calculate_area(self):\n",
    "        return 3.14 * self.radius * self.radius\n",
    "\n",
    "\n",
    "# Creating objects of the Circle class\n",
    "circle1 = Circle(5)\n",
    "circle2 = Circle(7)\n",
    "\n",
    "# Calling methods using the objects\n",
    "area1 = circle1.calculate_area()\n",
    "area2 = circle2.calculate_area()\n",
    "\n",
    "print(\"Area of circle1:\", area1)  # Output: Area of circle1: 78.5\n",
    "print(\"Area of circle2:\", area2)  # Output: Area of circle2: 153.86\n"
   ]
  },
  {
   "cell_type": "markdown",
   "metadata": {},
   "source": [
    "### Q5. What is inheritance? Give an example for each type of inheritance."
   ]
  },
  {
   "cell_type": "markdown",
   "metadata": {},
   "source": [
    "Inheritance is a fundamental concept in object-oriented programming (OOP) that allows a new class  to inherit properties and behaviors (attributes and methods) from an existing class (superclass or base class). This promotes code reuse and facilitates the creation of hierarchical relationships between classes.\n",
    "There are several types of inheritance:"
   ]
  },
  {
   "cell_type": "markdown",
   "metadata": {},
   "source": [
    "##### Single Inheritance: \n",
    "In single inheritance, a subclass inherits from only one superclass.\n"
   ]
  },
  {
   "cell_type": "code",
   "execution_count": 5,
   "metadata": {},
   "outputs": [
    {
     "name": "stdout",
     "output_type": "stream",
     "text": [
      "Animal speaks\n",
      "Dog barks\n"
     ]
    }
   ],
   "source": [
    "class Animal:\n",
    "    def speak(self):\n",
    "        print(\"Animal speaks\")\n",
    "\n",
    "class Dog(Animal):\n",
    "    def bark(self):\n",
    "        print(\"Dog barks\")\n",
    "\n",
    "# Example of single inheritance\n",
    "dog = Dog()\n",
    "dog.speak()  # Output: Animal speaks\n",
    "dog.bark()   # Output: Dog barks\n"
   ]
  },
  {
   "cell_type": "markdown",
   "metadata": {},
   "source": [
    "##### Multiple Inheritance: \n",
    "In multiple inheritance, a subclass inherits from multiple superclasses. Note that while Python supports multiple inheritance, some programming languages may not."
   ]
  },
  {
   "cell_type": "code",
   "execution_count": 6,
   "metadata": {},
   "outputs": [
    {
     "name": "stdout",
     "output_type": "stream",
     "text": [
      "Method A\n",
      "Method B\n",
      "Method C\n"
     ]
    }
   ],
   "source": [
    "class A:\n",
    "    def method_A(self):\n",
    "        print(\"Method A\")\n",
    "\n",
    "class B:\n",
    "    def method_B(self):\n",
    "        print(\"Method B\")\n",
    "\n",
    "class C(A, B):\n",
    "    def method_C(self):\n",
    "        print(\"Method C\")\n",
    "\n",
    "# Example of multiple inheritance\n",
    "obj = C()\n",
    "obj.method_A()  # Output: Method A\n",
    "obj.method_B()  # Output: Method B\n",
    "obj.method_C()  # Output: Method C\n"
   ]
  },
  {
   "cell_type": "markdown",
   "metadata": {},
   "source": [
    "##### Multilevel Inheritance: \n",
    "In multilevel inheritance, a subclass inherits from another subclass, creating a hierarchical chain of classes."
   ]
  },
  {
   "cell_type": "code",
   "execution_count": 7,
   "metadata": {},
   "outputs": [
    {
     "name": "stdout",
     "output_type": "stream",
     "text": [
      "Animal speaks\n",
      "Dog barks\n",
      "Puppy plays\n"
     ]
    }
   ],
   "source": [
    "class Animal:\n",
    "    def speak(self):\n",
    "        print(\"Animal speaks\")\n",
    "\n",
    "class Dog(Animal):\n",
    "    def bark(self):\n",
    "        print(\"Dog barks\")\n",
    "\n",
    "class Puppy(Dog):\n",
    "    def play(self):\n",
    "        print(\"Puppy plays\")\n",
    "\n",
    "# Example of multilevel inheritance\n",
    "puppy = Puppy()\n",
    "puppy.speak()  # Output: Animal speaks\n",
    "puppy.bark()   # Output: Dog barks\n",
    "puppy.play()   # Output: Puppy plays\n"
   ]
  },
  {
   "cell_type": "markdown",
   "metadata": {},
   "source": [
    "##### Hierarichal Inherintance:\n",
    "In hierarchical inheritance, multiple subclasses inherit from the same superclass."
   ]
  },
  {
   "cell_type": "code",
   "execution_count": 8,
   "metadata": {},
   "outputs": [
    {
     "name": "stdout",
     "output_type": "stream",
     "text": [
      "Animal speaks\n",
      "Dog barks\n",
      "Animal speaks\n",
      "Cat meows\n"
     ]
    }
   ],
   "source": [
    "class Animal:\n",
    "    def speak(self):\n",
    "        print(\"Animal speaks\")\n",
    "\n",
    "class Dog(Animal):\n",
    "    def bark(self):\n",
    "        print(\"Dog barks\")\n",
    "\n",
    "class Cat(Animal):\n",
    "    def meow(self):\n",
    "        print(\"Cat meows\")\n",
    "\n",
    "# Example of hierarchical inheritance\n",
    "dog = Dog()\n",
    "dog.speak()  # Output: Animal speaks\n",
    "dog.bark()   # Output: Dog barks\n",
    "\n",
    "cat = Cat()\n",
    "cat.speak()  # Output: Animal speaks\n",
    "cat.meow()   # Output: Cat meows\n"
   ]
  }
 ],
 "metadata": {
  "kernelspec": {
   "display_name": "Python 3",
   "language": "python",
   "name": "python3"
  },
  "language_info": {
   "codemirror_mode": {
    "name": "ipython",
    "version": 3
   },
   "file_extension": ".py",
   "mimetype": "text/x-python",
   "name": "python",
   "nbconvert_exporter": "python",
   "pygments_lexer": "ipython3",
   "version": "3.11.4"
  }
 },
 "nbformat": 4,
 "nbformat_minor": 2
}
