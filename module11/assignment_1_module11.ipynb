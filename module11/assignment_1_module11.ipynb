{
 "cells": [
  {
   "cell_type": "markdown",
   "metadata": {},
   "source": [
    "# Assignment-1"
   ]
  },
  {
   "cell_type": "markdown",
   "metadata": {},
   "source": [
    "### Q1. Which keyword is used to create a function? Create a function to return a list of odd numbers in the range of 1 to 25."
   ]
  },
  {
   "cell_type": "markdown",
   "metadata": {},
   "source": [
    "def keyword is used to define the function in python "
   ]
  },
  {
   "cell_type": "code",
   "execution_count": 36,
   "metadata": {},
   "outputs": [
    {
     "name": "stdout",
     "output_type": "stream",
     "text": [
      "[1, 3, 5, 7, 9, 11, 13, 15, 17, 19, 21, 23, 25]\n"
     ]
    }
   ],
   "source": [
    "\n",
    "def oddListElement():\n",
    "    ans=[]\n",
    "    for i in range (1, 26):\n",
    "        if i%2!=0 :\n",
    "            ans.append(i)\n",
    "    return ans\n",
    "\n",
    "print(oddListElement())\n"
   ]
  },
  {
   "cell_type": "markdown",
   "metadata": {},
   "source": [
    "### Q2. Why *args and **kwargs is used in some functions? Create a function each for *args and **kwargs to demonstrate their use."
   ]
  },
  {
   "cell_type": "markdown",
   "metadata": {},
   "source": [
    "\n",
    "*args and **kwargs are used in Python functions to handle variable numbers of arguments.\n",
    "\n",
    "*args is used to pass a variable number of positional arguments to a function. It collects these arguments into a tuple.\n",
    "\n",
    "**kwargs is used to pass a variable number of keyword arguments (i.e., arguments passed with a name) to a function. It collects these arguments into a dictionary."
   ]
  },
  {
   "cell_type": "code",
   "execution_count": 37,
   "metadata": {},
   "outputs": [
    {
     "name": "stdout",
     "output_type": "stream",
     "text": [
      "Sum of numbers: 15\n",
      "name: Rajnish\n",
      "age: 21\n",
      "city: Bangalore\n"
     ]
    }
   ],
   "source": [
    "# Function using *args\n",
    "def sum_of_numbers(*args):\n",
    "    total = 0\n",
    "    for num in args:\n",
    "        total += num\n",
    "    return total\n",
    "\n",
    "# Function using **kwargs\n",
    "def print_info(**kwargs):\n",
    "    for key, value in kwargs.items():\n",
    "        print(f\"{key}: {value}\")\n",
    "\n",
    "# Demonstrate *args\n",
    "result = sum_of_numbers(1, 2, 3, 4, 5)\n",
    "print(\"Sum of numbers:\", result)  # Output: Sum of numbers: 15\n",
    "\n",
    "# Demonstrate **kwargs\n",
    "print_info(name=\"Rajnish\", age=21, city=\"Bangalore\")\n",
    "# Output:\n",
    "# name: Rajnish\n",
    "# age: 30\n",
    "# city: Bangalore\n"
   ]
  },
  {
   "cell_type": "markdown",
   "metadata": {},
   "source": [
    "### Q3. What is an iterator in python? Name the method used to initialise the iterator object and the method used for iteration. Use these methods to print the first five elements of the given list [2, 4, 6, 8, 10, 12, 14, 16, 18, 20]."
   ]
  },
  {
   "cell_type": "markdown",
   "metadata": {},
   "source": [
    "In Python, an iterator is an object that represents a stream of data. It implements the iterator protocol, which consists of two methods: __iter__() and __next__().\n",
    "\n",
    "The __iter__() method is used to initialize the iterator object. It returns the iterator object itself.\n",
    "The __next__() method is used for iteration. It returns the next element in the stream of data."
   ]
  },
  {
   "cell_type": "code",
   "execution_count": 38,
   "metadata": {},
   "outputs": [
    {
     "name": "stdout",
     "output_type": "stream",
     "text": [
      "2\n",
      "4\n",
      "6\n",
      "8\n",
      "10\n"
     ]
    }
   ],
   "source": [
    "# Initialize iterator object\n",
    "my_list = [2, 4, 6, 8, 10, 12, 14, 16, 18, 20]\n",
    "my_iter = iter(my_list)\n",
    "\n",
    "# Iteration using __next__() method\n",
    "for _ in range(5):\n",
    "    print(next(my_iter))\n"
   ]
  },
  {
   "cell_type": "markdown",
   "metadata": {},
   "source": [
    "### Q4. What is a generator function in python? Why yield keyword is used? Give an example of a generator function."
   ]
  },
  {
   "cell_type": "markdown",
   "metadata": {},
   "source": [
    "In Python, a generator is a function that returns an iterator that produces a sequence of values when iterated over.\n",
    "\n",
    "The yield keyword is used in generator functions to produce values one by one without terminating the function. Unlike return, which exits the function and returns a single value, yield allows the function to generate multiple values over time, pausing and resuming its execution as needed."
   ]
  },
  {
   "cell_type": "code",
   "execution_count": 39,
   "metadata": {},
   "outputs": [
    {
     "name": "stdout",
     "output_type": "stream",
     "text": [
      "0\n",
      "1\n",
      "1\n",
      "2\n",
      "3\n",
      "5\n",
      "8\n",
      "13\n",
      "21\n",
      "34\n"
     ]
    }
   ],
   "source": [
    "def fibonacci():\n",
    "    a, b = 0, 1\n",
    "    while True:\n",
    "        yield a\n",
    "        a, b = b, a + b\n",
    "\n",
    "# Using the generator function\n",
    "fib_gen = fibonacci()\n",
    "\n",
    "# Iterating over the generator\n",
    "for _ in range(10):\n",
    "    print(next(fib_gen))\n"
   ]
  },
  {
   "cell_type": "markdown",
   "metadata": {},
   "source": [
    "### Q5. Create a generator function for prime numbers less than 1000. Use the next() method to print the first 20 prime numbers.\n"
   ]
  },
  {
   "cell_type": "code",
   "execution_count": 40,
   "metadata": {},
   "outputs": [
    {
     "name": "stdout",
     "output_type": "stream",
     "text": [
      "2\n",
      "3\n",
      "5\n",
      "7\n",
      "11\n",
      "13\n",
      "17\n",
      "19\n",
      "23\n",
      "29\n",
      "31\n",
      "37\n",
      "41\n",
      "43\n",
      "47\n",
      "53\n",
      "59\n",
      "61\n",
      "67\n",
      "71\n"
     ]
    }
   ],
   "source": [
    "def is_prime(num):\n",
    "    if num <= 1:\n",
    "        return False\n",
    "    for i in range(2, int(num**0.5) + 1):\n",
    "        if num % i == 0:\n",
    "            return False\n",
    "    return True\n",
    "\n",
    "def primes_generator():\n",
    "    num = 2\n",
    "    count = 0\n",
    "    while count < 20:\n",
    "        if is_prime(num):\n",
    "            yield num\n",
    "            count += 1\n",
    "        num += 1\n",
    "\n",
    "# Create a generator object\n",
    "prime_gen = primes_generator()\n",
    "\n",
    "# Print the first 20 prime numbers\n",
    "for _ in range(20):\n",
    "    print(next(prime_gen))\n"
   ]
  },
  {
   "cell_type": "markdown",
   "metadata": {},
   "source": [
    "### Q6. Write a python program to print the first 10 Fibonacci numbers using a while loop."
   ]
  },
  {
   "cell_type": "markdown",
   "metadata": {},
   "source": []
  },
  {
   "cell_type": "code",
   "execution_count": 41,
   "metadata": {},
   "outputs": [
    {
     "name": "stdout",
     "output_type": "stream",
     "text": [
      "0\n",
      "1\n",
      "1\n",
      "2\n",
      "3\n",
      "5\n",
      "8\n",
      "13\n",
      "21\n",
      "34\n"
     ]
    }
   ],
   "source": [
    "# Initialize the first two Fibonacci numbers\n",
    "a, b = 0, 1\n",
    "\n",
    "# Counter to keep track of how many Fibonacci numbers have been printed\n",
    "count = 0\n",
    "\n",
    "# Print the first two Fibonacci numbers\n",
    "print(a)\n",
    "print(b)\n",
    "\n",
    "# Loop to generate and print the next 8 Fibonacci numbers\n",
    "while count < 8:\n",
    "    # Calculate the next Fibonacci number\n",
    "    c = a + b\n",
    "    # Print the next Fibonacci number\n",
    "    print(c)\n",
    "    # Update the values of a and b for the next iteration\n",
    "    a, b = b, c\n",
    "    # Increment the counter\n",
    "    count += 1\n"
   ]
  },
  {
   "cell_type": "markdown",
   "metadata": {},
   "source": [
    "### Q7. Write a List Comprehension to iterate through the given string: ‘pwskills’. Expected output: ['p', 'w', 's', 'k', 'i', 'l', 'l', 's']"
   ]
  },
  {
   "cell_type": "code",
   "execution_count": 42,
   "metadata": {},
   "outputs": [
    {
     "name": "stdout",
     "output_type": "stream",
     "text": [
      "['p', 'w', 's', 'k', 'i', 'l', 'l', 's']\n"
     ]
    }
   ],
   "source": [
    "\n",
    "given_string = 'pwskills'\n",
    "\n",
    "# List comprehension to iterate through the string and create a list of its characters\n",
    "output_list = [i for i in given_string]\n",
    "\n",
    "# Print the output list\n",
    "print(output_list)\n"
   ]
  },
  {
   "cell_type": "markdown",
   "metadata": {},
   "source": [
    "### Q8. Write a python program to check whether a given number is Palindrome or not using a while loop."
   ]
  },
  {
   "cell_type": "code",
   "execution_count": 43,
   "metadata": {},
   "outputs": [
    {
     "name": "stdout",
     "output_type": "stream",
     "text": [
      "True\n",
      "False\n",
      "True\n",
      "True\n",
      "True\n"
     ]
    }
   ],
   "source": [
    "def is_palindrome(n):\n",
    "    i, j = 0, len(n) - 1\n",
    "    while i < j:\n",
    "        if n[i] != n[j]:\n",
    "            return False\n",
    "        else:\n",
    "            i += 1\n",
    "            j -= 1\n",
    "    return True\n",
    "\n",
    "l=[\"444\",\"567\", \"545\",\"12321\",\"98889\"]\n",
    "for i in l:\n",
    "    print(is_palindrome(i))\n"
   ]
  },
  {
   "cell_type": "markdown",
   "metadata": {},
   "source": [
    "### Q9. Write a code to print odd numbers from 1 to 100 using list comprehension."
   ]
  },
  {
   "cell_type": "code",
   "execution_count": 44,
   "metadata": {},
   "outputs": [
    {
     "name": "stdout",
     "output_type": "stream",
     "text": [
      "[1, 2, 3, 4, 5, 6, 7, 8, 9, 10, 11, 12, 13, 14, 15, 16, 17, 18, 19, 20, 21, 22, 23, 24, 25, 26, 27, 28, 29, 30, 31, 32, 33, 34, 35, 36, 37, 38, 39, 40, 41, 42, 43, 44, 45, 46, 47, 48, 49, 50, 51, 52, 53, 54, 55, 56, 57, 58, 59, 60, 61, 62, 63, 64, 65, 66, 67, 68, 69, 70, 71, 72, 73, 74, 75, 76, 77, 78, 79, 80, 81, 82, 83, 84, 85, 86, 87, 88, 89, 90, 91, 92, 93, 94, 95, 96, 97, 98, 99, 100]\n",
      "[1, 3, 5, 7, 9, 11, 13, 15, 17, 19, 21, 23, 25, 27, 29, 31, 33, 35, 37, 39, 41, 43, 45, 47, 49, 51, 53, 55, 57, 59, 61, 63, 65, 67, 69, 71, 73, 75, 77, 79, 81, 83, 85, 87, 89, 91, 93, 95, 97, 99]\n"
     ]
    }
   ],
   "source": [
    "list=[i for i in range (1, 101)]\n",
    "print(list)\n",
    "number_oddList=[i for i in list if i%2!=0]\n",
    "print(number_oddList)"
   ]
  }
 ],
 "metadata": {
  "kernelspec": {
   "display_name": "Python 3",
   "language": "python",
   "name": "python3"
  },
  "language_info": {
   "codemirror_mode": {
    "name": "ipython",
    "version": 3
   },
   "file_extension": ".py",
   "mimetype": "text/x-python",
   "name": "python",
   "nbconvert_exporter": "python",
   "pygments_lexer": "ipython3",
   "version": "3.11.4"
  }
 },
 "nbformat": 4,
 "nbformat_minor": 2
}
